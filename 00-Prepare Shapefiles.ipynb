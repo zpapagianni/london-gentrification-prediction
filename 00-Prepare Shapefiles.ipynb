{
 "cells": [
  {
   "cell_type": "markdown",
   "source": [
    "# Predicting Neighborhood Gentrification in London Using Machine Learning and Spatial Data\n",
    "### Zoe Papagianni(01827902)                                                    9/06/2023\n",
    "## Introduction\n",
    "In this notebook, we delve into the dynamic landscape of London's urban development and explore the potential of cutting-edge techniques to forecast the areas that are likely to undergo gentrification in the future. Gentrification is the process of urban transformation characterized by the influx of wealthier residents into previously disadvantaged neighborhoods. It has garnered significant attention from researchers as it brings about profound changes in the socioeconomic fabric, housing market, and cultural dynamics of a neighborhood. Understanding and predicting gentrification can provide valuable insights for equitable urban planning, housing policy, and community development.\n",
    "\n",
    "This analysis will be centered around utilizing various types of data, including demographic information, socioeconomic indicators, housing market data, and spatial features. By combining and analyzing these datasets, we can identify key factors that contribute to the likelihood of gentrification in different neighborhoods.\n",
    "\n",
    "In this notebook, I will preprocess and integrate various datasets and perform some prelimenary exploratory data analysis to gain insights. In the next steps of this analylis, I will engineer relevant features, train and evaluate predictive models, and generate informative visualizations to depict the predicted areas of gentrification in London.\n",
    "\n",
    "# 00-Data Downloading & Preparation\n",
    "\n",
    "Greater London is an administrative area  in England governed by the Greater London Authority and it is organised into 33 local government districts: the 32 London boroughs and the City of London as seen in the [image](https://hidden-london.com/miscellany/london-boroughs-map/) below the\n",
    "![title](images/London-boroughs.png)\n",
    "\n",
    "In this chapter, the relevant shapefiles are created by downloading data from the London Data Store. This step only needs to be run once.\n",
    "\n",
    "## Data Sources\n",
    "The data can be found in the [London Datastore](https://data.london.gov.uk/).We extract the More specifically:\n",
    "\n",
    "- [London Boundaries](https://hub.arcgis.com/datasets/58247b4f427443d381d7d82e3a7565e1_0/explore\n",
    ") The file contains the digital vector boundaries for Regions in England as at December 2016 provided by the Office for National Statistics.The folder includes:\n",
    "    - Output Area (OA) 2011,\n",
    "    - Lower Super Output Area (LSOA) 2004 and 2011,\n",
    "    - Middle Super Output Area (MSOA) 2004 and 2011,\n",
    "    - London Wards (two files: City of London merged into single area and split into seperate wards). There are separate download file for 2014 & 2018 boundaries.\n",
    "\n",
    "- London Boroughs\n",
    "- [Boroughs, Wards, LSOAs](https://data.london.gov.uk/dataset/statistical-gis-boundary-files-london): The folder contains a range of key GIS boundary files for ESRI and Map Info covering Greater London.\n",
    "- [LSOAs weights](https://hub.arcgis.com/datasets/ons::lsoa-dec-2011-boundaries-generalised-clipped-bgc-ew-v3-2/explore?location=52.883603%2C-2.860546%2C7.14): The LSOA data from the GLA doesn't work for calculating the weights matrix and as a result dat from the Office for National Statistics (ONS) is used.This file contains the digital vector boundaries for lower layer super output areas as at 31 December 2011 in England and Wales.\n",
    "\n"
   ],
   "metadata": {
    "collapsed": false
   }
  },
  {
   "cell_type": "code",
   "execution_count": null,
   "outputs": [],
   "source": [],
   "metadata": {
    "collapsed": false
   }
  },
  {
   "cell_type": "code",
   "execution_count": null,
   "outputs": [],
   "source": [],
   "metadata": {
    "collapsed": false
   }
  }
 ],
 "metadata": {
  "kernelspec": {
   "display_name": "Python 3",
   "language": "python",
   "name": "python3"
  },
  "language_info": {
   "codemirror_mode": {
    "name": "ipython",
    "version": 2
   },
   "file_extension": ".py",
   "mimetype": "text/x-python",
   "name": "python",
   "nbconvert_exporter": "python",
   "pygments_lexer": "ipython2",
   "version": "2.7.6"
  }
 },
 "nbformat": 4,
 "nbformat_minor": 0
}
